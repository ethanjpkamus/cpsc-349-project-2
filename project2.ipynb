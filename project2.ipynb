{
 "cells": [
  {
   "cell_type": "markdown",
   "id": "da18f709",
   "metadata": {},
   "source": [
    "# Project 2\n",
    "## Members\n",
    "* Ethan Kamus\n",
    "* Nathaniel Marquez\n",
    "* Rebecca Lee"
   ]
  },
  {
   "cell_type": "markdown",
   "id": "2765fb3e",
   "metadata": {},
   "source": [
    "# Experiment 1"
   ]
  },
  {
   "cell_type": "code",
   "execution_count": 54,
   "id": "a8b71ac4",
   "metadata": {},
   "outputs": [],
   "source": [
    "import numpy as np\n",
    "data = np.loadtxt('dataset.csv',delimiter=',',skiprows=1)"
   ]
  },
  {
   "cell_type": "markdown",
   "id": "94cf4e92",
   "metadata": {},
   "source": [
    "# Experiment 2"
   ]
  },
  {
   "cell_type": "code",
   "execution_count": 55,
   "id": "1b23f418",
   "metadata": {},
   "outputs": [],
   "source": [
    "training_set = data[0:900]\n",
    "test_set = data[900:1000]"
   ]
  },
  {
   "cell_type": "markdown",
   "id": "a2465e1c",
   "metadata": {},
   "source": [
    "# Experiment 3"
   ]
  },
  {
   "cell_type": "code",
   "execution_count": 56,
   "id": "47ef60c5",
   "metadata": {},
   "outputs": [
    {
     "data": {
      "text/plain": [
       "array([[ 0.65683428],\n",
       "       [-0.00632862],\n",
       "       [-0.00483534]])"
      ]
     },
     "execution_count": 56,
     "metadata": {},
     "output_type": "execute_result"
    }
   ],
   "source": [
    "# remove the y column\n",
    "arr = np.array(training_set)\n",
    "x1 = arr[0:900,[0]] # matrix of features?\n",
    "x2 = arr[0:900,[1]]\n",
    "X = np.hstack((np.ones_like(x1),x1,x2))\n",
    "t = arr[0:900,[2]] # matrix of output?\n",
    "\n",
    "XX = np.dot(X.T,X)\n",
    "invXX = np.linalg.inv(XX)\n",
    "Xt = np.dot(X.T,t)\n",
    "w = np.dot(invXX,Xt)\n",
    "\n",
    "# XX = np.dot(X.T,X)\n",
    "# Xt = np.dot(X.T,t)\n",
    "# w = np.linalg.solve(XX,Xt)\n",
    "w"
   ]
  },
  {
   "cell_type": "markdown",
   "id": "c6db7b81",
   "metadata": {},
   "source": [
    "$$ y = 0.65683428 - 0.00632862x_1 - 0.00483534x_2$$"
   ]
  },
  {
   "cell_type": "markdown",
   "id": "717a9b26",
   "metadata": {},
   "source": [
    "# Experiment 4"
   ]
  },
  {
   "cell_type": "code",
   "execution_count": 57,
   "id": "81403d6a",
   "metadata": {},
   "outputs": [
    {
     "data": {
      "text/plain": [
       "0.18856631445883043"
      ]
     },
     "execution_count": 57,
     "metadata": {},
     "output_type": "execute_result"
    }
   ],
   "source": [
    "w_0 = w[0][0]\n",
    "w_1 = w[1][0]\n",
    "w_2 = w[2][0]\n",
    "# X = arr[0:900,[1,2]]\n",
    "predictions = []\n",
    "for i in X:\n",
    "    predictions.append(np.array([w_0 + (i[0]*w_1) + (i[1]*w_2)]))\n",
    "loss = t - predictions\n",
    "loss = np.square(loss)\n",
    "avg_sq_loss = np.sum(loss)/len(loss)\n",
    "avg_sq_loss"
   ]
  },
  {
   "cell_type": "markdown",
   "id": "de3469e4",
   "metadata": {},
   "source": [
    "MSE: 0.1903883621895976"
   ]
  },
  {
   "cell_type": "markdown",
   "id": "9ae5eb55",
   "metadata": {},
   "source": [
    "# Experiment 5"
   ]
  },
  {
   "cell_type": "code",
   "execution_count": 58,
   "id": "ba7de446",
   "metadata": {},
   "outputs": [
    {
     "data": {
      "text/plain": [
       "2.100431725249423"
      ]
     },
     "execution_count": 58,
     "metadata": {},
     "output_type": "execute_result"
    }
   ],
   "source": [
    "X = np.hstack((X,np.square(x1),np.square(x2)))\n",
    "t = arr[0:900,[2]]\n",
    "\n",
    "XX = np.dot(X.T,X)\n",
    "Xt = np.dot(X.T,t)\n",
    "wq = np.linalg.solve(XX,Xt)\n",
    "\n",
    "wq_0 = wq[0][0]\n",
    "wq_1 = wq[1][0]\n",
    "wq_2 = wq[2][0]\n",
    "wq_12 = wq[3][0]\n",
    "wq_22 = wq[4][0]\n",
    "\n",
    "predictions = []\n",
    "for i in X:\n",
    "    predictions.append(np.array([wq_0 + (i[1]*wq_1) \n",
    "                                     + (i[2]*wq_2) \n",
    "                                     + ((i[3]**2)*wq_12) \n",
    "                                     + ((i[4]**2)*wq_22)]))\n",
    "loss = t - predictions\n",
    "loss = np.square(loss)\n",
    "avg_sq_loss = np.sum(loss)/len(loss)\n",
    "avg_sq_loss"
   ]
  },
  {
   "cell_type": "markdown",
   "id": "c81b1965",
   "metadata": {},
   "source": [
    "$$ y = 0.31183988 - 0.00377483x_1 + 0.00781421x_2 + 0.17753899x_1^2 + 0.08813606x_2^2 $$\n",
    "\n",
    "MSE: 0.1544028141884278"
   ]
  },
  {
   "cell_type": "markdown",
   "id": "a3087f69",
   "metadata": {},
   "source": [
    "# Experiment 6"
   ]
  },
  {
   "cell_type": "code",
   "execution_count": 61,
   "id": "c84cadaa",
   "metadata": {},
   "outputs": [
    {
     "data": {
      "text/plain": [
       "(0.22082836287308275, 2.957925351584397)"
      ]
     },
     "execution_count": 61,
     "metadata": {},
     "output_type": "execute_result"
    }
   ],
   "source": [
    "arr2 = np.array(test_set)\n",
    "x1 = arr2[0:,[0]] # matrix of features?\n",
    "x2 = arr2[0:,[1]]\n",
    "t = arr2[0:,[2]]\n",
    "X = np.hstack((np.ones_like(x1),x1,x2))\n",
    "\n",
    "# linear\n",
    "# X = arr2[0:,[1,2]]\n",
    "predictions = []\n",
    "for i in X:\n",
    "    predictions.append(np.array([w_0 + (i[0]*w_1) + (i[1]*w_2)]))\n",
    "loss = t - predictions\n",
    "loss = np.square(loss)\n",
    "test_mse = np.sum(loss)/len(loss)\n",
    "\n",
    "# quadratic\n",
    "X = np.hstack((X, np.square(x1), np.square(x2)))\n",
    "# X = arr2[0:,[1,2]]\n",
    "predictions = []\n",
    "for i in X:\n",
    "    predictions.append(np.array([wq_0 + (i[1]*wq_1) \n",
    "                                     + (i[2]*wq_2) \n",
    "                                     + ((i[3]**2)*wq_12) \n",
    "                                     + ((i[4]**2)*wq_22)]))\n",
    "loss = t - predictions\n",
    "loss = np.square(loss)\n",
    "test_mse_q = np.sum(loss)/len(loss)\n",
    "test_mse, test_mse_q"
   ]
  },
  {
   "cell_type": "markdown",
   "id": "c5e991f8",
   "metadata": {},
   "source": [
    "# Experiment 7"
   ]
  },
  {
   "cell_type": "code",
   "execution_count": null,
   "id": "e6e396d5",
   "metadata": {},
   "outputs": [],
   "source": [
    "def cross_validation(order, training_data):\n",
    "#     j, m = 0\n",
    "    k = 5\n",
    "    fold = int(len(training_data) / k)\n",
    "#     X = np.ones_like(x)\n",
    "    for i in range(order+1):\n",
    "        j = 0\n",
    "        for f in range(1, k+1):\n",
    "            validation = np.array(training_data[int(j*fold):int(f*fold)])\n",
    "            training = np.delete(training_data, slice(int(j*fold),int(f*fold)), 0)\n",
    "            valid_x1, valid_x2, valid_t = validation[0:,[0]], validation[0:,[1]], validtion[0:,[2]]\n",
    "            training_x1, training_x2, training_t = training[0:,[0]], training[0:,[1]], training[0:,[2]]\n",
    "            predictions = []\n",
    "            for v in validation:\n",
    "                predictions.append(np.array([w_0 + (i[0]*wq_1) \n",
    "                                     + (i[1]*wq_2) \n",
    "                                     + ((i[0]**2)*wq_12) \n",
    "                                     + ((i[1]**2)*wq_22)]))\n",
    "            \n",
    "            j+= 1\n",
    "        \n",
    "        \n",
    "def predictions(dataset, order):\n",
    "    predictions = []\n",
    "    for i in dataset:\n",
    "        predictions.append(np.array([w_0 + (i[0]*wq_1) \n",
    "                                     + (i[1]*wq_2) \n",
    "                                     + ((i[0]**2)*wq_12) \n",
    "                                     + ((i[1]**2)*wq_22)]))\n",
    "        \n",
    "            \n",
    "cross_validation(8, training_set)    "
   ]
  },
  {
   "cell_type": "code",
   "execution_count": null,
   "id": "938ffc3b-ee1d-4459-bff9-c36640ea97b4",
   "metadata": {},
   "outputs": [],
   "source": []
  }
 ],
 "metadata": {
  "kernelspec": {
   "display_name": "Python 3 (ipykernel)",
   "language": "python",
   "name": "python3"
  },
  "language_info": {
   "codemirror_mode": {
    "name": "ipython",
    "version": 3
   },
   "file_extension": ".py",
   "mimetype": "text/x-python",
   "name": "python",
   "nbconvert_exporter": "python",
   "pygments_lexer": "ipython3",
   "version": "3.9.6"
  }
 },
 "nbformat": 4,
 "nbformat_minor": 5
}
